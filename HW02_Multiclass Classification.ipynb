{
 "cells": [
  {
   "cell_type": "markdown",
   "metadata": {},
   "source": [
    "# Getting started with neural networks: Classification and regression"
   ]
  },
  {
   "cell_type": "markdown",
   "metadata": {},
   "source": [
    "## Classifying newswires: A multiclass classification example"
   ]
  },
  {
   "cell_type": "markdown",
   "metadata": {},
   "source": [
    "### The Reuters dataset"
   ]
  },
  {
   "cell_type": "markdown",
   "metadata": {},
   "source": [
    "#### Loading the Reuters dataset"
   ]
  },
  {
   "cell_type": "code",
   "execution_count": 21,
   "metadata": {},
   "outputs": [
    {
     "name": "stdout",
     "output_type": "stream",
     "text": [
      "(3, \"Wall St. Bears Claw Back Into the Black (Reuters) Reuters - Short-sellers, Wall Street's dwindling\\\\band of ultra-cynics, are seeing green again.\")\n",
      "266\n"
     ]
    }
   ],
   "source": [
    "import torch\n",
    "import numpy as np\n",
    "import torch.nn as nn\n",
    "import torch.optim as optim\n",
    "\n",
    "from torch.utils.data import DataLoader\n",
    "from torch.utils.data.dataset import random_split\n",
    "from torchtext.data.functional import to_map_style_dataset\n",
    "from torchtext.datasets import AG_NEWS\n",
    "import matplotlib.pyplot as plt\n",
    "\n",
    "from torchtext.data.utils import get_tokenizer\n",
    "from torchtext.vocab import build_vocab_from_iterator\n",
    "\n",
    "trainset = AG_NEWS('./data', split='train')\n",
    "testset = AG_NEWS('./data', split='test')\n",
    "\n",
    "train_iter = iter(AG_NEWS(split='train'))\n",
    "print(next(train_iter))\n",
    "print(len(next(train_iter)[1])) # print the length of the sentence"
   ]
  },
  {
   "cell_type": "code",
   "execution_count": 3,
   "metadata": {},
   "outputs": [
    {
     "name": "stdout",
     "output_type": "stream",
     "text": [
      "[475, 21, 30, 5297]\n",
      "[475, 21, 30, 5297]\n",
      "3\n"
     ]
    }
   ],
   "source": [
    "tokenizer = get_tokenizer('basic_english')\n",
    "\n",
    "def yield_tokens(data_iter):\n",
    "    for _, text in data_iter:\n",
    "        yield tokenizer(text)\n",
    "\n",
    "vocab = build_vocab_from_iterator(yield_tokens(trainset), specials=[\"<unk>\"], min_freq=50)\n",
    "vocab.set_default_index(vocab[\"<unk>\"])\n",
    "\n",
    "print(vocab(['here', 'is', 'an', 'example']))\n",
    "\n",
    "text_pipeline = lambda x: vocab(tokenizer(x))\n",
    "label_pipeline = lambda x: int(x) - 1\n",
    "\n",
    "print(text_pipeline('here is an example'))\n",
    "print(label_pipeline('4'))"
   ]
  },
  {
   "cell_type": "code",
   "execution_count": 5,
   "metadata": {},
   "outputs": [
    {
     "name": "stdout",
     "output_type": "stream",
     "text": [
      "cuda\n"
     ]
    }
   ],
   "source": [
    "device = torch.device(\"cuda\" if torch.cuda.is_available() else \"cpu\")\n",
    "\n",
    "print(device)\n",
    "\n",
    "def vectorize_sequences(sequences, dimension=10000):\n",
    "    results = np.zeros((len(sequences), dimension))\n",
    "    for i, sequence in enumerate(sequences):\n",
    "        if sequence<10000:\n",
    "            results[i, sequence] = 1.  # set specific indices of results[i] to 1s\n",
    "    return results\n",
    "\n",
    "\n",
    "def collate_batch(batch):\n",
    "    label_list, text_list, offsets = [], [], [0]\n",
    "    for (_label, _text) in batch:\n",
    "         label_list.append(label_pipeline(_label))\n",
    "         processed_text = text_pipeline(_text)\n",
    "         processed_text = torch.tensor(vectorize_sequences(processed_text))\n",
    "         processed_text = torch.sum(processed_text, dim=0)\n",
    "         processed_text = torch.where(processed_text>0, torch.ones_like(processed_text), torch.zeros_like(processed_text))\n",
    "        #  print(torch.tensor(_label).shape, processed_text.shape)\n",
    "         text_list.append(processed_text.view(-1, 10000))\n",
    "         offsets.append(processed_text.size(0))\n",
    "    label_list = torch.tensor(label_list, dtype=torch.int64)\n",
    "    offsets = torch.tensor(offsets[:-1]).cumsum(dim=0)\n",
    "    # print(len(text_list))\n",
    "    text_list = torch.cat(text_list, dim=0).float()\n",
    "    # print(text_list.shape)\n",
    "    return label_list.to(device), text_list.to(device)#, offsets.to(device)\n",
    "\n",
    "train_iter, test_iter = AG_NEWS()\n",
    "train_dataset = to_map_style_dataset(train_iter)\n",
    "test_dataset = to_map_style_dataset(test_iter)\n",
    "\n",
    "split_train_, split_valid_ = \\\n",
    "    random_split(train_dataset, [60000, 60000])\n",
    "\n",
    "train_dataloader = DataLoader(split_train_, batch_size=128,\n",
    "                              shuffle=True, collate_fn=collate_batch)\n",
    "valid_dataloader = DataLoader(split_valid_, batch_size=128,\n",
    "                              shuffle=False, collate_fn=collate_batch)\n",
    "test_dataloader = DataLoader(test_dataset, batch_size=128,\n",
    "                             shuffle=False, collate_fn=collate_batch)"
   ]
  },
  {
   "cell_type": "markdown",
   "metadata": {},
   "source": [
    "### Building our network"
   ]
  },
  {
   "cell_type": "code",
   "execution_count": 6,
   "metadata": {},
   "outputs": [
    {
     "data": {
      "text/plain": [
       "Model(\n",
       "  (fc1): Linear(in_features=10000, out_features=1024, bias=True)\n",
       "  (act1): ReLU()\n",
       "  (fc2): Linear(in_features=1024, out_features=256, bias=True)\n",
       "  (act2): ReLU()\n",
       "  (fc4): Linear(in_features=256, out_features=4, bias=True)\n",
       ")"
      ]
     },
     "execution_count": 6,
     "metadata": {},
     "output_type": "execute_result"
    }
   ],
   "source": [
    "class Model(nn.Module):\n",
    "    def __init__(self):\n",
    "        super().__init__()\n",
    "        self.fc1 = nn.Linear(10000, 1024)\n",
    "        self.act1 = nn.ReLU()\n",
    "        self.fc2 = nn.Linear(1024, 256)\n",
    "        self.act2 = nn.ReLU()\n",
    "        # self.fc3 = nn.Linear(256, 256)\n",
    "        # self.act3 = nn.ReLU()\n",
    "        self.fc4 = nn.Linear(256, 4)\n",
    "        # there is no softmax function since softmax function will be automatically applied inside of the cross-entropy loss provided by pytorch\n",
    "\n",
    "\n",
    "    def forward(self, x):\n",
    "        x = self.act1(self.fc1(x))\n",
    "        x = self.act2(self.fc2(x))\n",
    "        # x = self.act3(self.fc3(x))\n",
    "        x = self.fc4(x)\n",
    "\n",
    "        return x\n",
    "        \n",
    "model = Model()\n",
    "model.to(device)"
   ]
  },
  {
   "cell_type": "code",
   "execution_count": 7,
   "metadata": {},
   "outputs": [],
   "source": [
    "optimizer = optim.RMSprop(params = model.parameters(), lr = 0.001, momentum=0.9)\n",
    "criterion = nn.CrossEntropyLoss()"
   ]
  },
  {
   "cell_type": "code",
   "execution_count": 8,
   "metadata": {},
   "outputs": [
    {
     "name": "stdout",
     "output_type": "stream",
     "text": [
      "[1,   469] loss: 0.460, accuracy: 0.8749, val_loss: 0.294, valid accuracy: 0.9029\n",
      "[2,   469] loss: 0.174, accuracy: 0.9436, val_loss: 0.340, valid accuracy: 0.8986\n",
      "[3,   469] loss: 0.072, accuracy: 0.9775, val_loss: 0.481, valid accuracy: 0.9028\n",
      "[4,   469] loss: 0.040, accuracy: 0.9892, val_loss: 0.588, valid accuracy: 0.9029\n",
      "[5,   469] loss: 0.028, accuracy: 0.9933, val_loss: 0.739, valid accuracy: 0.9023\n",
      "[6,   469] loss: 0.023, accuracy: 0.9946, val_loss: 0.751, valid accuracy: 0.9008\n",
      "[7,   469] loss: 0.019, accuracy: 0.9955, val_loss: 0.927, valid accuracy: 0.9025\n",
      "[8,   469] loss: 0.020, accuracy: 0.9962, val_loss: 0.983, valid accuracy: 0.9025\n",
      "[9,   469] loss: 0.021, accuracy: 0.9956, val_loss: 1.057, valid accuracy: 0.8990\n",
      "[10,   469] loss: 0.017, accuracy: 0.9962, val_loss: 0.932, valid accuracy: 0.9010\n",
      "Finished Training\n"
     ]
    }
   ],
   "source": [
    "history = {'loss':[], 'acc':[], 'val_loss':[], 'val_acc':[]}\n",
    "\n",
    "for epoch in range(10):\n",
    "    running_loss = 0.0\n",
    "    running_correct = 0\n",
    "    running_total = 0\n",
    "\n",
    "    running_val_loss = 0.0\n",
    "    running_val_correct = 0\n",
    "    running_val_total = 0\n",
    "    for i, data in enumerate(train_dataloader):\n",
    "        # get the inputs; data is a list of [labels, inputs]\n",
    "        labels, inputs = data\n",
    "        inputs = inputs.to(device)\n",
    "        labels = labels.to(device)\n",
    "        # print(labels)\n",
    "        # print(inputs.shape)\n",
    "\n",
    "        # zero the parameter gradients\n",
    "        optimizer.zero_grad()\n",
    "\n",
    "        # forward + backward + optimize\n",
    "        outputs = model(inputs)\n",
    "        loss = criterion(outputs, labels)\n",
    "        loss.backward()\n",
    "        optimizer.step()\n",
    "\n",
    "        _, preds = outputs.max(dim=1)\n",
    "        # print(preds)\n",
    "        # print statistics\n",
    "        running_loss += loss.item()\n",
    "        running_correct += (preds == labels).sum()\n",
    "        running_total += labels.size(0)\n",
    "        # print(running_correct/running_total)\n",
    "\n",
    "\n",
    "    for i, data in enumerate(valid_dataloader):\n",
    "        labels, inputs = data\n",
    "        inputs = inputs.to(device)\n",
    "        labels = labels.to(device)\n",
    "\n",
    "        with torch.no_grad():\n",
    "            outputs = model(inputs)\n",
    "            loss = criterion(outputs, labels)\n",
    "            _, preds = outputs.max(dim=1)\n",
    "\n",
    "        running_val_loss += loss.item()\n",
    "        running_val_correct += (preds == labels).sum()          \n",
    "        running_val_total += labels.size(0)\n",
    "\n",
    "    print(f'[{epoch + 1}, {i + 1:5d}] loss: {running_loss / len(train_dataloader):.3f}, accuracy: {running_correct/running_total:.4f}, val_loss: {running_val_loss / len(valid_dataloader):.3f}, valid accuracy: {running_val_correct/running_val_total:.4f}')\n",
    "\n",
    "    history['loss'].append(running_loss / len(train_dataloader))\n",
    "    history['acc'].append((running_correct/running_total).item())\n",
    "    history['val_loss'].append(running_val_loss / len(valid_dataloader))\n",
    "    history['val_acc'].append((running_val_correct/running_val_total).item())\n",
    "\n",
    "    # print(outputs)\n",
    "print('Finished Training')"
   ]
  },
  {
   "cell_type": "code",
   "execution_count": 11,
   "metadata": {},
   "outputs": [
    {
     "data": {
      "image/png": "[encoded data removed]",
      "text/plain": [
       "<Figure size 640x480 with 1 Axes>"
      ]
     },
     "metadata": {},
     "output_type": "display_data"
    }
   ],
   "source": [
    "loss = history['loss']\n",
    "val_loss = history['val_loss']\n",
    "\n",
    "epochs = range(1, len(loss) + 1)\n",
    "\n",
    "plt.plot(epochs, loss, 'bo', label='Training loss')\n",
    "plt.plot(epochs, val_loss, 'b', label='Validation loss')\n",
    "plt.title('Training and validation loss')\n",
    "plt.xlabel('Epochs')\n",
    "plt.ylabel('Loss')\n",
    "plt.legend()\n",
    "\n",
    "plt.show()"
   ]
  },
  {
   "cell_type": "code",
   "execution_count": null,
   "metadata": {},
   "outputs": [
    {
     "data": {
      "image/png": "[encoded data removed]",
      "text/plain": [
       "<Figure size 640x480 with 1 Axes>"
      ]
     },
     "metadata": {},
     "output_type": "display_data"
    }
   ],
   "source": [
    "plt.clf()   # clear figure\n",
    "\n",
    "acc = history['acc']\n",
    "val_acc = history['val_acc']\n",
    "\n",
    "plt.plot(epochs, acc, 'bo', label='Training acc')\n",
    "plt.plot(epochs, val_acc, 'b', label='Validation acc')\n",
    "plt.title('Training and validation accuracy')\n",
    "plt.xlabel('Epochs')\n",
    "plt.ylabel('Loss')\n",
    "plt.legend()\n",
    "\n",
    "plt.show()"
   ]
  },
  {
   "cell_type": "code",
   "execution_count": 12,
   "metadata": {},
   "outputs": [
    {
     "name": "stdout",
     "output_type": "stream",
     "text": [
      "test loss: 0.132, test accuracy: 0.8995\n"
     ]
    }
   ],
   "source": [
    "running_test_loss = 0\n",
    "running_test_correct = 0\n",
    "running_test_total = 0\n",
    "\n",
    "\n",
    "for i, data in enumerate(test_dataloader):\n",
    "    labels, inputs = data\n",
    "    inputs = inputs.to(device)\n",
    "    labels = labels.to(device)\n",
    "\n",
    "    with torch.no_grad():\n",
    "        outputs = model(inputs)\n",
    "        loss = criterion(outputs, labels)\n",
    "        _, preds = outputs.max(dim=1)\n",
    "\n",
    "    running_test_loss += loss.item()\n",
    "    running_test_correct += (preds == labels).sum()          \n",
    "    running_test_total += labels.size(0)\n",
    "\n",
    "print(f'test loss: {running_loss / len(test_dataloader):.3f}, test accuracy: {running_test_correct/running_test_total:.4f}')"
   ]
  },
  {
   "cell_type": "code",
   "execution_count": 16,
   "metadata": {},
   "outputs": [
    {
     "name": "stdout",
     "output_type": "stream",
     "text": [
      "tensor([  5.2801, -29.8672,   6.9803, -22.5741], device='cuda:0',\n",
      "       grad_fn=<SelectBackward0>) torch.Size([4])\n",
      "tensor([1.5444e-01, 8.4032e-17, 8.4556e-01, 1.2354e-13], device='cuda:0',\n",
      "       grad_fn=<SelectBackward0>) torch.Size([4])\n"
     ]
    }
   ],
   "source": [
    "data = next(iter(test_dataloader))\n",
    "labels, inputs = data\n",
    "inputs = inputs.to(device)\n",
    "labels = labels.to(device)\n",
    "\n",
    "predictions = model(inputs)\n",
    "print(predictions[0], predictions[0].shape)\n",
    "softmax_predictions = torch.softmax(predictions, dim=1)\n",
    "print(softmax_predictions[0], softmax_predictions[0].shape)"
   ]
  },
  {
   "cell_type": "markdown",
   "metadata": {},
   "source": [
    "### On the importance of having sufficiently large intermediate layers"
   ]
  },
  {
   "cell_type": "code",
   "execution_count": 17,
   "metadata": {},
   "outputs": [
    {
     "data": {
      "text/plain": [
       "Model(\n",
       "  (fc1): Linear(in_features=10000, out_features=64, bias=True)\n",
       "  (act1): ReLU()\n",
       "  (fc2): Linear(in_features=64, out_features=4, bias=True)\n",
       "  (act2): ReLU()\n",
       "  (fc3): Linear(in_features=4, out_features=4, bias=True)\n",
       ")"
      ]
     },
     "execution_count": 17,
     "metadata": {},
     "output_type": "execute_result"
    }
   ],
   "source": [
    "import torch.nn as nn\n",
    "\n",
    "class Model(nn.Module):\n",
    "    def __init__(self):\n",
    "        super().__init__()\n",
    "        self.fc1 = nn.Linear(10000, 64)\n",
    "        self.act1 = nn.ReLU()\n",
    "        self.fc2 = nn.Linear(64, 4)\n",
    "        self.act2 = nn.ReLU()\n",
    "        self.fc3 = nn.Linear(4, 4)\n",
    "        # there is no softmax function since softmax function will be automatically applied inside of the cross-entropy loss provided by pytorch\n",
    "\n",
    "\n",
    "    def forward(self, x):\n",
    "        x = self.act1(self.fc1(x))\n",
    "        x = self.act2(self.fc2(x))\n",
    "        x = self.fc3(x)\n",
    "\n",
    "        return x\n",
    "        \n",
    "model = Model()\n",
    "model.to(device)"
   ]
  },
  {
   "cell_type": "code",
   "execution_count": 18,
   "metadata": {},
   "outputs": [],
   "source": [
    "import torch.optim as optim\n",
    "\n",
    "optimizer = optim.RMSprop(params = model.parameters(), lr = 0.001, momentum=0.9)\n",
    "criterion = nn.CrossEntropyLoss()"
   ]
  },
  {
   "cell_type": "code",
   "execution_count": 19,
   "metadata": {},
   "outputs": [
    {
     "name": "stdout",
     "output_type": "stream",
     "text": [
      "[1,   469] loss: 0.371, accuracy: 0.8704, val_loss: 0.272, valid accuracy: 0.9074\n",
      "[2,   469] loss: 0.193, accuracy: 0.9345, val_loss: 0.289, valid accuracy: 0.9063\n",
      "[3,   469] loss: 0.110, accuracy: 0.9620, val_loss: 0.360, valid accuracy: 0.8962\n",
      "[4,   469] loss: 0.058, accuracy: 0.9803, val_loss: 0.495, valid accuracy: 0.8973\n",
      "[5,   469] loss: 0.034, accuracy: 0.9880, val_loss: 0.626, valid accuracy: 0.8989\n",
      "[6,   469] loss: 0.026, accuracy: 0.9916, val_loss: 0.790, valid accuracy: 0.8972\n",
      "[7,   469] loss: 0.020, accuracy: 0.9928, val_loss: 0.823, valid accuracy: 0.8981\n",
      "[8,   469] loss: 0.016, accuracy: 0.9946, val_loss: 0.906, valid accuracy: 0.8956\n",
      "[9,   469] loss: 0.016, accuracy: 0.9952, val_loss: 0.885, valid accuracy: 0.8947\n",
      "[10,   469] loss: 0.013, accuracy: 0.9957, val_loss: 1.013, valid accuracy: 0.8976\n",
      "Finished Training\n"
     ]
    }
   ],
   "source": [
    "history = {'loss':[], 'acc':[], 'val_loss':[], 'val_acc':[]}\n",
    "\n",
    "for epoch in range(10):\n",
    "    running_loss = 0.0\n",
    "    running_correct = 0\n",
    "    running_total = 0\n",
    "\n",
    "    running_val_loss = 0.0\n",
    "    running_val_correct = 0\n",
    "    running_val_total = 0\n",
    "    for i, data in enumerate(train_dataloader):\n",
    "        # get the inputs; data is a list of [labels, inputs]\n",
    "        labels, inputs = data\n",
    "        inputs = inputs.to(device)\n",
    "        labels = labels.to(device)\n",
    "        # print(labels)\n",
    "        # print(inputs.shape)\n",
    "\n",
    "        # zero the parameter gradients\n",
    "        optimizer.zero_grad()\n",
    "\n",
    "        # forward + backward + optimize\n",
    "        outputs = model(inputs)\n",
    "        loss = criterion(outputs, labels)\n",
    "        loss.backward()\n",
    "        optimizer.step()\n",
    "\n",
    "        _, preds = outputs.max(dim=1)\n",
    "        # print(preds)\n",
    "        # print statistics\n",
    "        running_loss += loss.item()\n",
    "        running_correct += (preds == labels).sum()\n",
    "        running_total += labels.size(0)\n",
    "        # print(running_correct/running_total)\n",
    "\n",
    "\n",
    "    for i, data in enumerate(valid_dataloader):\n",
    "        labels, inputs = data\n",
    "        inputs = inputs.to(device)\n",
    "        labels = labels.to(device)\n",
    "\n",
    "        with torch.no_grad():\n",
    "            outputs = model(inputs)\n",
    "            loss = criterion(outputs, labels)\n",
    "            _, preds = outputs.max(dim=1)\n",
    "\n",
    "        running_val_loss += loss.item()\n",
    "        running_val_correct += (preds == labels).sum()          \n",
    "        running_val_total += labels.size(0)\n",
    "\n",
    "    print(f'[{epoch + 1}, {i + 1:5d}] loss: {running_loss / len(train_dataloader):.3f}, accuracy: {running_correct/running_total:.4f}, val_loss: {running_val_loss / len(valid_dataloader):.3f}, valid accuracy: {running_val_correct/running_val_total:.4f}')\n",
    "\n",
    "    history['loss'].append(running_loss / len(train_dataloader))\n",
    "    history['acc'].append((running_correct/running_total).item())\n",
    "    history['val_loss'].append(running_val_loss / len(valid_dataloader))\n",
    "    history['val_acc'].append((running_val_correct/running_val_total).item())\n",
    "\n",
    "    # print(outputs)\n",
    "print('Finished Training')"
   ]
  },
  {
   "cell_type": "markdown",
   "metadata": {},
   "source": [
    "### Additional Experiments"
   ]
  },
  {
   "cell_type": "markdown",
   "metadata": {},
   "source": [
    "- LeakyReLU\n",
    "- BatchNormalization\n",
    "- optimizer - adam\n",
    "- dropout\n",
    "- one more layer"
   ]
  },
  {
   "cell_type": "markdown",
   "metadata": {},
   "source": [
    "#### Experiment 1: LeakyReLU + BatchNormalization"
   ]
  },
  {
   "cell_type": "code",
   "execution_count": 55,
   "metadata": {},
   "outputs": [
    {
     "data": {
      "text/plain": [
       "Model(\n",
       "  (fc1): Linear(in_features=10000, out_features=1024, bias=True)\n",
       "  (act1): LeakyReLU(negative_slope=0.01)\n",
       "  (bn1): BatchNorm1d(1024, eps=1e-05, momentum=0.1, affine=True, track_running_stats=True)\n",
       "  (fc2): Linear(in_features=1024, out_features=256, bias=True)\n",
       "  (act2): LeakyReLU(negative_slope=0.01)\n",
       "  (bn2): BatchNorm1d(256, eps=1e-05, momentum=0.1, affine=True, track_running_stats=True)\n",
       "  (fc4): Linear(in_features=256, out_features=4, bias=True)\n",
       ")"
      ]
     },
     "execution_count": 55,
     "metadata": {},
     "output_type": "execute_result"
    }
   ],
   "source": [
    "class Model(nn.Module):\n",
    "    def __init__(self):\n",
    "        super().__init__()\n",
    "        self.fc1 = nn.Linear(10000, 1024)\n",
    "        self.act1 = nn.LeakyReLU()\n",
    "        self.bn1 = nn.BatchNorm1d(1024)\n",
    "        \n",
    "        self.fc2 = nn.Linear(1024, 256)\n",
    "        self.act2 = nn.LeakyReLU()\n",
    "        self.bn2 = nn.BatchNorm1d(256)\n",
    "        \n",
    "        # self.fc3 = nn.Linear(256, 256)\n",
    "        # self.act3 = nn.ReLU()\n",
    "        self.fc4 = nn.Linear(256, 4)\n",
    "        # there is no softmax function since softmax function will be automatically applied inside of the cross-entropy loss provided by pytorch\n",
    "\n",
    "\n",
    "    def forward(self, x):\n",
    "        x = self.act1(self.fc1(x))\n",
    "        x = self.bn1(x)\n",
    "        \n",
    "        x = self.act2(self.fc2(x))\n",
    "        x = self.bn2(x)\n",
    "        \n",
    "        # x = self.act3(self.fc3(x))\n",
    "        x = self.fc4(x)\n",
    "\n",
    "        return x\n",
    "        \n",
    "\n",
    "model = Model()\n",
    "model.to(device)"
   ]
  },
  {
   "cell_type": "markdown",
   "metadata": {},
   "source": [
    "Change Activation function to SGD"
   ]
  },
  {
   "cell_type": "code",
   "execution_count": 35,
   "metadata": {},
   "outputs": [],
   "source": [
    "optimizer = optim.SGD(params = model.parameters(), lr = 0.001, momentum=0.9)\n",
    "criterion = nn.CrossEntropyLoss()"
   ]
  },
  {
   "cell_type": "code",
   "execution_count": 36,
   "metadata": {},
   "outputs": [
    {
     "name": "stdout",
     "output_type": "stream",
     "text": [
      "[1,   469] loss: 0.437, accuracy: 0.8464, val_loss: 0.314, valid accuracy: 0.8923\n",
      "[2,   469] loss: 0.185, accuracy: 0.9422, val_loss: 0.299, valid accuracy: 0.8972\n",
      "[3,   469] loss: 0.085, accuracy: 0.9789, val_loss: 0.309, valid accuracy: 0.8984\n",
      "[4,   469] loss: 0.035, accuracy: 0.9949, val_loss: 0.322, valid accuracy: 0.9010\n",
      "[5,   469] loss: 0.018, accuracy: 0.9978, val_loss: 0.340, valid accuracy: 0.9019\n",
      "Finished Training\n"
     ]
    }
   ],
   "source": [
    "history = {'loss':[], 'acc':[], 'val_loss':[], 'val_acc':[]}\n",
    "\n",
    "for epoch in range(5):\n",
    "    running_loss = 0.0\n",
    "    running_correct = 0\n",
    "    running_total = 0\n",
    "\n",
    "    running_val_loss = 0.0\n",
    "    running_val_correct = 0\n",
    "    running_val_total = 0\n",
    "    for i, data in enumerate(train_dataloader):\n",
    "        # get the inputs; data is a list of [labels, inputs]\n",
    "        labels, inputs = data\n",
    "        inputs = inputs.to(device)\n",
    "        labels = labels.to(device)\n",
    "        # print(labels)\n",
    "        # print(inputs.shape)\n",
    "\n",
    "        # zero the parameter gradients\n",
    "        optimizer.zero_grad()\n",
    "\n",
    "        # forward + backward + optimize\n",
    "        outputs = model(inputs)\n",
    "        loss = criterion(outputs, labels)\n",
    "        loss.backward()\n",
    "        optimizer.step()\n",
    "\n",
    "        _, preds = outputs.max(dim=1)\n",
    "        # print(preds)\n",
    "        # print statistics\n",
    "        running_loss += loss.item()\n",
    "        running_correct += (preds == labels).sum()\n",
    "        running_total += labels.size(0)\n",
    "        # print(running_correct/running_total)\n",
    "\n",
    "\n",
    "    for i, data in enumerate(valid_dataloader):\n",
    "        labels, inputs = data\n",
    "        inputs = inputs.to(device)\n",
    "        labels = labels.to(device)\n",
    "\n",
    "        with torch.no_grad():\n",
    "            outputs = model(inputs)\n",
    "            loss = criterion(outputs, labels)\n",
    "            _, preds = outputs.max(dim=1)\n",
    "\n",
    "        running_val_loss += loss.item()\n",
    "        running_val_correct += (preds == labels).sum()          \n",
    "        running_val_total += labels.size(0)\n",
    "\n",
    "    print(f'[{epoch + 1}, {i + 1:5d}] loss: {running_loss / len(train_dataloader):.3f}, accuracy: {running_correct/running_total:.4f}, val_loss: {running_val_loss / len(valid_dataloader):.3f}, valid accuracy: {running_val_correct/running_val_total:.4f}')\n",
    "\n",
    "    history['loss'].append(running_loss / len(train_dataloader))\n",
    "    history['acc'].append((running_correct/running_total).item())\n",
    "    history['val_loss'].append(running_val_loss / len(valid_dataloader))\n",
    "    history['val_acc'].append((running_val_correct/running_val_total).item())\n",
    "\n",
    "    # print(outputs)\n",
    "print('Finished Training')"
   ]
  },
  {
   "cell_type": "code",
   "execution_count": 37,
   "metadata": {},
   "outputs": [
    {
     "data": {
      "image/png": "[encoded data removed]",
      "text/plain": [
       "<Figure size 640x480 with 1 Axes>"
      ]
     },
     "metadata": {},
     "output_type": "display_data"
    }
   ],
   "source": [
    "loss = history['loss']\n",
    "val_loss = history['val_loss']\n",
    "\n",
    "epochs = range(1, len(loss) + 1)\n",
    "\n",
    "plt.plot(epochs, loss, 'bo', label='Training loss')\n",
    "plt.plot(epochs, val_loss, 'b', label='Validation loss')\n",
    "plt.title('Training and validation loss')\n",
    "plt.xlabel('Epochs')\n",
    "plt.ylabel('Loss')\n",
    "plt.legend()\n",
    "\n",
    "plt.show()"
   ]
  },
  {
   "cell_type": "code",
   "execution_count": 38,
   "metadata": {},
   "outputs": [
    {
     "data": {
      "image/png": "[encoded data removed]",
      "text/plain": [
       "<Figure size 640x480 with 1 Axes>"
      ]
     },
     "metadata": {},
     "output_type": "display_data"
    }
   ],
   "source": [
    "plt.clf()   # clear figure\n",
    "\n",
    "acc = history['acc']\n",
    "val_acc = history['val_acc']\n",
    "\n",
    "plt.plot(epochs, acc, 'bo', label='Training acc')\n",
    "plt.plot(epochs, val_acc, 'b', label='Validation acc')\n",
    "plt.title('Training and validation accuracy')\n",
    "plt.xlabel('Epochs')\n",
    "plt.ylabel('Loss')\n",
    "plt.legend()\n",
    "\n",
    "plt.show()"
   ]
  },
  {
   "cell_type": "code",
   "execution_count": 39,
   "metadata": {},
   "outputs": [
    {
     "name": "stdout",
     "output_type": "stream",
     "text": [
      "test loss: 0.144, test accuracy: 0.8925\n"
     ]
    }
   ],
   "source": [
    "running_test_loss = 0\n",
    "running_test_correct = 0\n",
    "running_test_total = 0\n",
    "\n",
    "\n",
    "for i, data in enumerate(test_dataloader):\n",
    "    labels, inputs = data\n",
    "    inputs = inputs.to(device)\n",
    "    labels = labels.to(device)\n",
    "\n",
    "    with torch.no_grad():\n",
    "        outputs = model(inputs)\n",
    "        loss = criterion(outputs, labels)\n",
    "        _, preds = outputs.max(dim=1)\n",
    "\n",
    "    running_test_loss += loss.item()\n",
    "    running_test_correct += (preds == labels).sum()          \n",
    "    running_test_total += labels.size(0)\n",
    "\n",
    "print(f'test loss: {running_loss / len(test_dataloader):.3f}, test accuracy: {running_test_correct/running_test_total:.4f}')"
   ]
  },
  {
   "cell_type": "markdown",
   "metadata": {},
   "source": [
    "#### Experiment 2: One more Layer + ReLU + Dropout(0.3)"
   ]
  },
  {
   "cell_type": "code",
   "execution_count": 58,
   "metadata": {},
   "outputs": [],
   "source": [
    "class Model(nn.Module):\n",
    "    def __init__(self):\n",
    "        super().__init__()\n",
    "        self.fc1 = nn.Linear(10000, 1024)\n",
    "        self.act1 = nn.ReLU()\n",
    "        self.BatchNorm1d1 = nn.BatchNorm1d(1024, affine=False) # Batch Normalization 추가\n",
    "        self.drop1 = nn.Dropout(0.3) # Dropout 추가\n",
    "        \n",
    "        self.fc2 = nn.Linear(1024, 256)\n",
    "        self.act2 = nn.ReLU()\n",
    "        self.BatchNorm1d2 = nn.BatchNorm1d(256, affine=False) # Batch Normalization 추가\n",
    "        self.drop2 = nn.Dropout(0.3) # Dropout 추가\n",
    "        \n",
    "        self.fc3 = nn.Linear(256, 256)\n",
    "        self.act3 = nn.ReLU()\n",
    "        self.BatchNorm1d3 = nn.BatchNorm1d(256, affine=False) # Batch Normalization 추가\n",
    "        \n",
    "        self.fc4 = nn.Linear(256, 4)\n",
    "        # there is no softmax function since softmax function will be automatically applied inside of the cross-entropy loss provided by pytorch\n",
    "\n",
    "\n",
    "    def forward(self, x):\n",
    "        x = self.drop1(self.BatchNorm1d1(self.act1(self.fc1(x))))\n",
    "        x = self.drop2(self.BatchNorm1d2(self.act2(self.fc2(x))))\n",
    "        x = self.BatchNorm1d3(self.act3(self.fc3(x)))\n",
    "        x = self.fc4(x)\n",
    "\n",
    "        return x\n",
    "        \n",
    "model = Model()\n",
    "model.to(device)"
   ]
  },
  {
   "cell_type": "markdown",
   "metadata": {},
   "source": [
    "Change optimizer to Adam"
   ]
  },
  {
   "cell_type": "code",
   "execution_count": 59,
   "metadata": {},
   "outputs": [],
   "source": [
    "optimizer = optim.Adam(params = model.parameters(), lr = 0.001)\n",
    "criterion = nn.CrossEntropyLoss()"
   ]
  },
  {
   "cell_type": "code",
   "execution_count": 60,
   "metadata": {},
   "outputs": [
    {
     "name": "stdout",
     "output_type": "stream",
     "text": [
      "[1,   469] loss: 0.346, accuracy: 0.8798, val_loss: 0.285, valid accuracy: 0.9013\n",
      "[2,   469] loss: 0.166, accuracy: 0.9399, val_loss: 0.305, valid accuracy: 0.9023\n",
      "[3,   469] loss: 0.089, accuracy: 0.9674, val_loss: 0.377, valid accuracy: 0.8968\n",
      "[4,   469] loss: 0.062, accuracy: 0.9773, val_loss: 0.430, valid accuracy: 0.8950\n",
      "[5,   469] loss: 0.046, accuracy: 0.9840, val_loss: 0.467, valid accuracy: 0.8969\n",
      "Finished Training\n"
     ]
    }
   ],
   "source": [
    "history = {'loss':[], 'acc':[], 'val_loss':[], 'val_acc':[]}\n",
    "\n",
    "for epoch in range(5):\n",
    "    running_loss = 0.0\n",
    "    running_correct = 0\n",
    "    running_total = 0\n",
    "\n",
    "    running_val_loss = 0.0\n",
    "    running_val_correct = 0\n",
    "    running_val_total = 0\n",
    "    for i, data in enumerate(train_dataloader):\n",
    "        # get the inputs; data is a list of [labels, inputs]\n",
    "        labels, inputs = data\n",
    "        inputs = inputs.to(device)\n",
    "        labels = labels.to(device)\n",
    "        # print(labels)\n",
    "        # print(inputs.shape)\n",
    "\n",
    "        # zero the parameter gradients\n",
    "        optimizer.zero_grad()\n",
    "\n",
    "        # forward + backward + optimize\n",
    "        outputs = model(inputs)\n",
    "        loss = criterion(outputs, labels)\n",
    "        loss.backward()\n",
    "        optimizer.step()\n",
    "\n",
    "        _, preds = outputs.max(dim=1)\n",
    "        # print(preds)\n",
    "        # print statistics\n",
    "        running_loss += loss.item()\n",
    "        running_correct += (preds == labels).sum()\n",
    "        running_total += labels.size(0)\n",
    "        # print(running_correct/running_total)\n",
    "\n",
    "\n",
    "    for i, data in enumerate(valid_dataloader):\n",
    "        labels, inputs = data\n",
    "        inputs = inputs.to(device)\n",
    "        labels = labels.to(device)\n",
    "\n",
    "        with torch.no_grad():\n",
    "            outputs = model(inputs)\n",
    "            loss = criterion(outputs, labels)\n",
    "            _, preds = outputs.max(dim=1)\n",
    "\n",
    "        running_val_loss += loss.item()\n",
    "        running_val_correct += (preds == labels).sum()          \n",
    "        running_val_total += labels.size(0)\n",
    "\n",
    "    print(f'[{epoch + 1}, {i + 1:5d}] loss: {running_loss / len(train_dataloader):.3f}, accuracy: {running_correct/running_total:.4f}, val_loss: {running_val_loss / len(valid_dataloader):.3f}, valid accuracy: {running_val_correct/running_val_total:.4f}')\n",
    "\n",
    "    history['loss'].append(running_loss / len(train_dataloader))\n",
    "    history['acc'].append((running_correct/running_total).item())\n",
    "    history['val_loss'].append(running_val_loss / len(valid_dataloader))\n",
    "    history['val_acc'].append((running_val_correct/running_val_total).item())\n",
    "\n",
    "    # print(outputs)\n",
    "print('Finished Training')"
   ]
  },
  {
   "cell_type": "code",
   "execution_count": 61,
   "metadata": {},
   "outputs": [
    {
     "data": {
      "image/png": "[encoded data removed]",
      "text/plain": [
       "<Figure size 640x480 with 1 Axes>"
      ]
     },
     "metadata": {},
     "output_type": "display_data"
    }
   ],
   "source": [
    "loss = history['loss']\n",
    "val_loss = history['val_loss']\n",
    "\n",
    "epochs = range(1, len(loss) + 1)\n",
    "\n",
    "plt.plot(epochs, loss, 'bo', label='Training loss')\n",
    "plt.plot(epochs, val_loss, 'b', label='Validation loss')\n",
    "plt.title('Training and validation loss')\n",
    "plt.xlabel('Epochs')\n",
    "plt.ylabel('Loss')\n",
    "plt.legend()\n",
    "\n",
    "plt.show()"
   ]
  },
  {
   "cell_type": "code",
   "execution_count": 62,
   "metadata": {},
   "outputs": [
    {
     "data": {
      "image/png": "[encoded data removed]",
      "text/plain": [
       "<Figure size 640x480 with 1 Axes>"
      ]
     },
     "metadata": {},
     "output_type": "display_data"
    }
   ],
   "source": [
    "plt.clf()   # clear figure\n",
    "\n",
    "acc = history['acc']\n",
    "val_acc = history['val_acc']\n",
    "\n",
    "plt.plot(epochs, acc, 'bo', label='Training acc')\n",
    "plt.plot(epochs, val_acc, 'b', label='Validation acc')\n",
    "plt.title('Training and validation accuracy')\n",
    "plt.xlabel('Epochs')\n",
    "plt.ylabel('Loss')\n",
    "plt.legend()\n",
    "\n",
    "plt.show()"
   ]
  },
  {
   "cell_type": "code",
   "execution_count": 63,
   "metadata": {},
   "outputs": [
    {
     "name": "stdout",
     "output_type": "stream",
     "text": [
      "test loss: 0.357, test accuracy: 0.8913\n"
     ]
    }
   ],
   "source": [
    "running_test_loss = 0\n",
    "running_test_correct = 0\n",
    "running_test_total = 0\n",
    "\n",
    "\n",
    "for i, data in enumerate(test_dataloader):\n",
    "    labels, inputs = data\n",
    "    inputs = inputs.to(device)\n",
    "    labels = labels.to(device)\n",
    "\n",
    "    with torch.no_grad():\n",
    "        outputs = model(inputs)\n",
    "        loss = criterion(outputs, labels)\n",
    "        _, preds = outputs.max(dim=1)\n",
    "\n",
    "    running_test_loss += loss.item()\n",
    "    running_test_correct += (preds == labels).sum()          \n",
    "    running_test_total += labels.size(0)\n",
    "\n",
    "print(f'test loss: {running_loss / len(test_dataloader):.3f}, test accuracy: {running_test_correct/running_test_total:.4f}')"
   ]
  }
 ],
 "metadata": {
  "kernelspec": {
   "display_name": "Python 3 (ipykernel)",
   "language": "python",
   "name": "python3"
  },
  "language_info": {
   "codemirror_mode": {
    "name": "ipython",
    "version": 3
   },
   "file_extension": ".py",
   "mimetype": "text/x-python",
   "name": "python",
   "nbconvert_exporter": "python",
   "pygments_lexer": "ipython3",
   "version": "3.8.18"
  },
  "vscode": {
   "interpreter": {
    "hash": "dcf0cff469f8c3d603a73343a67782f8fbcf1288b1d0c78177938a41bde9d1bd"
   }
  }
 },
 "nbformat": 4,
 "nbformat_minor": 2
}
